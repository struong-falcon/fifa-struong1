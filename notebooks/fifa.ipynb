{
 "cells": [
  {
   "cell_type": "code",
   "execution_count": 2,
   "metadata": {},
   "outputs": [],
   "source": [
    "from bqplot import pyplot as plt\n",
    "import ipywidgets as widgets\n",
    "import numpy as np\n",
    "from ipywidgets import interactive\n",
    "from IPython.display import display"
   ]
  },
  {
   "cell_type": "code",
   "execution_count": 6,
   "metadata": {},
   "outputs": [
    {
     "data": {
      "application/vnd.jupyter.widget-view+json": {
       "model_id": "91366b824cf74ecda34444a45714ccd3",
       "version_major": 2,
       "version_minor": 0
      },
      "text/plain": [
       "HTML(value='<div id=\"img\" style=\"float:left\"><img style=\"vertical-align:middle\" src=\"https://upload.wikimedia.…"
      ]
     },
     "metadata": {},
     "output_type": "display_data"
    }
   ],
   "source": [
    "img =  widgets.HTML('<div id=\"img\" style=\"float:left\">'\n",
    "                    '<img style=\"vertical-align:middle\" src=\"https://upload.wikimedia.org/wikipedia/commons/thumb/f/f6/FIFA_21_logo.svg/1200px-FIFA_21_logo.svg.png\" alt=\"\" height=\"100\">'                       \n",
    "                    '<h1 style=\"font-family:verdana;\">Exploratory Data Analysis</h1>'\n",
    "                    '<h2 style=\"font-family:verdana;\">by: Steven Truong</h2>'\n",
    "                    '<p>This project contains several data analysis about football player and team based on FIFA21 dataset.'\n",
    "                    ' The contents of this project are:'\n",
    "                    '<ol>'\n",
    "                    '<li> Data statistic that can be filtered and sorted by some categories</li>'\n",
    "                    '<li> Histogram showing the distirbution of each category</li>'\n",
    "                    '<li> A statistics comparing the average of age, overall and wage of each country</li>'\n",
    "                    '<li> Best starting lineup based on country, formation and age</li>'\n",
    "                    '<li> Correlation between Age or Wage with player overall</li>'\n",
    "                    '<li> Classifier comparison to predict the best position according to the abilities.</li>'\n",
    "                    '</ol>'\n",
    "                    'The data is cleaned first because there are some players who do not have a club and some missing values related to league name. '\n",
    "                    'Some csv files are obtained from https://github.com/batuhan-demirci/fifa21_dataset/tree/master/data. '\n",
    "                    'Those csv files need to be concatenate as one dataframe.</p>'\n",
    "                    '</div>')\n",
    "img"
   ]
  },
  {
   "cell_type": "markdown",
   "metadata": {},
   "source": [
    "#1. Data statistic that can be filtered and sorted by some categories\n",
    "This feature is useful for a manager which can look into a table contains some player data filtered by country, team, position and age and sorted by overall, wage and age."
   ]
  },
  {
   "cell_type": "code",
   "execution_count": 2,
   "metadata": {},
   "outputs": [],
   "source": [
    "import pandas as pd\n",
    "num_data = 10000 # reduce the data to make this program running faster\n",
    "df_player=pd.read_csv('tbl_player.csv',nrows=num_data)\n",
    "df_team=pd.read_csv('tbl_team.csv',nrows=num_data)\n",
    "pd.set_option('display.max_rows', None)"
   ]
  },
  {
   "cell_type": "code",
   "execution_count": 3,
   "metadata": {},
   "outputs": [],
   "source": [
    "#check missing value\n",
    "#df_player.isna().any().any()"
   ]
  },
  {
   "cell_type": "code",
   "execution_count": 4,
   "metadata": {},
   "outputs": [],
   "source": [
    "#df_player.info()"
   ]
  },
  {
   "cell_type": "code",
   "execution_count": 5,
   "metadata": {},
   "outputs": [],
   "source": [
    "#df_player[df_player['int_team_id'].isna()]"
   ]
  },
  {
   "cell_type": "code",
   "execution_count": 6,
   "metadata": {},
   "outputs": [],
   "source": [
    "df_player['int_team_id'].fillna(0.0,inplace=True)\n",
    "#df_player.info()"
   ]
  },
  {
   "cell_type": "code",
   "execution_count": 7,
   "metadata": {},
   "outputs": [],
   "source": [
    "#df_team.isna().any().any()"
   ]
  },
  {
   "cell_type": "code",
   "execution_count": 8,
   "metadata": {},
   "outputs": [],
   "source": [
    "#cleaning data team\n",
    "#df_team.info()"
   ]
  },
  {
   "cell_type": "code",
   "execution_count": 9,
   "metadata": {},
   "outputs": [],
   "source": [
    "#df_team[df_team['str_league'].isna()]"
   ]
  },
  {
   "cell_type": "code",
   "execution_count": 10,
   "metadata": {},
   "outputs": [],
   "source": [
    "#df_team['str_league'].unique()"
   ]
  },
  {
   "cell_type": "code",
   "execution_count": 11,
   "metadata": {},
   "outputs": [],
   "source": [
    "df_team.at[29,'str_league']='Italian Serie A (1)'\n",
    "df_team.at[235,'str_league']='Italian Serie A (1)'\n",
    "#df_team.info()"
   ]
  },
  {
   "cell_type": "code",
   "execution_count": 12,
   "metadata": {},
   "outputs": [],
   "source": [
    "#df_team"
   ]
  },
  {
   "cell_type": "code",
   "execution_count": 13,
   "metadata": {},
   "outputs": [],
   "source": [
    "# add age\n",
    "from datetime import date,datetime\n",
    "\n",
    "today = datetime.now()\n",
    "list_age = []\n",
    "for index, row in df_player.iterrows():\n",
    "    date_of_birth = pd.to_datetime(row['dt_date_of_birth'], format='%Y-%m-%d', errors='ignore')\n",
    "    diff=today-date_of_birth\n",
    "    #print(row['dt_date_of_birth'],round(diff.days/365,2))\n",
    "    list_age.append(int(diff.days/365))\n",
    "df_player['age']=list_age\n",
    "#df_player.head()"
   ]
  },
  {
   "cell_type": "code",
   "execution_count": 14,
   "metadata": {},
   "outputs": [],
   "source": [
    "list_team_name = ['No Team']+df_team['str_team_name'].to_list()\n",
    "#list_team_name"
   ]
  },
  {
   "cell_type": "code",
   "execution_count": 15,
   "metadata": {},
   "outputs": [],
   "source": [
    "list_team = []\n",
    "for index, row in df_player.iterrows():\n",
    "    list_team.append(list_team_name[int(row['int_team_id'])])\n",
    "df_player['team']=list_team\n",
    "#df_player.head()"
   ]
  },
  {
   "cell_type": "code",
   "execution_count": 16,
   "metadata": {},
   "outputs": [],
   "source": [
    "country_list = list(df_player[\"str_nationality\"].unique())\n",
    "country_list.sort()\n",
    "country_list = ['All']+country_list"
   ]
  },
  {
   "cell_type": "code",
   "execution_count": 17,
   "metadata": {},
   "outputs": [],
   "source": [
    "#country_list"
   ]
  },
  {
   "cell_type": "code",
   "execution_count": 18,
   "metadata": {},
   "outputs": [],
   "source": [
    "country_combobox1=widgets.Combobox(\n",
    "    value='All',\n",
    "    placeholder='Choose Country',\n",
    "    options=country_list,\n",
    "    description='Country:',\n",
    "    ensure_option=True,\n",
    "    disabled=False\n",
    ")\n",
    "country_combobox2=widgets.Combobox(\n",
    "    value='All',\n",
    "    placeholder='Choose Country',\n",
    "    options=country_list,\n",
    "    description='Country:',\n",
    "    ensure_option=True,\n",
    "    disabled=False\n",
    ")"
   ]
  },
  {
   "cell_type": "code",
   "execution_count": 19,
   "metadata": {},
   "outputs": [],
   "source": [
    "list_team=list(set(list_team))"
   ]
  },
  {
   "cell_type": "code",
   "execution_count": 20,
   "metadata": {},
   "outputs": [],
   "source": [
    "team_combobox=widgets.Combobox(\n",
    "    value='All',\n",
    "    placeholder='Choose Team',\n",
    "    options=list_team,\n",
    "    description='Team:',\n",
    "    ensure_option=True,\n",
    "    disabled=False\n",
    ")"
   ]
  },
  {
   "cell_type": "code",
   "execution_count": 21,
   "metadata": {},
   "outputs": [],
   "source": [
    "sort_combobox=widgets.Combobox(\n",
    "    value='OVR (High)',\n",
    "    placeholder='Choose Sorter',\n",
    "    options=['OVR (High)','OVR (Low)','Age (Old)','Age (Young)','Wage (High)','Wage (Low)'],\n",
    "    description='Sort:',\n",
    "    ensure_option=True,\n",
    "    disabled=False\n",
    ")"
   ]
  },
  {
   "cell_type": "code",
   "execution_count": 22,
   "metadata": {},
   "outputs": [],
   "source": [
    "pos_list=list(df_player['str_best_position'].unique())\n",
    "pos_list=['All']+pos_list"
   ]
  },
  {
   "cell_type": "code",
   "execution_count": 23,
   "metadata": {},
   "outputs": [],
   "source": [
    "pos_combobox=widgets.Combobox(\n",
    "    value='All',\n",
    "    placeholder='Choose Pos',\n",
    "    options=pos_list,\n",
    "    description='Pos:',\n",
    "    ensure_option=True,\n",
    "    disabled=False\n",
    ")"
   ]
  },
  {
   "cell_type": "code",
   "execution_count": 24,
   "metadata": {},
   "outputs": [],
   "source": [
    "age_slider1=widgets.IntRangeSlider(\n",
    "    value=[17, 45],\n",
    "    min=17,\n",
    "    max=45,\n",
    "    step=1,\n",
    "    description='Age range:',\n",
    "    disabled=False,\n",
    "    continuous_update=False,\n",
    "    orientation='horizontal',\n",
    "    readout=True,\n",
    "    readout_format='d',\n",
    ")\n",
    "age_slider2=widgets.IntRangeSlider(\n",
    "    value=[17, 45],\n",
    "    min=17,\n",
    "    max=45,\n",
    "    step=1,\n",
    "    description='Age range:',\n",
    "    disabled=False,\n",
    "    continuous_update=False,\n",
    "    orientation='horizontal',\n",
    "    readout=True,\n",
    "    readout_format='d',\n",
    ")"
   ]
  },
  {
   "cell_type": "code",
   "execution_count": 25,
   "metadata": {},
   "outputs": [],
   "source": [
    "\n",
    "max_data_bounded_text1=widgets.BoundedIntText(\n",
    "    value=20,\n",
    "    min=5,\n",
    "    max=500,\n",
    "    step=1,\n",
    "    description='Max data:',\n",
    "    disabled=False\n",
    ")\n",
    "max_data_bounded_text2=widgets.BoundedIntText(\n",
    "    value=20,\n",
    "    min=5,\n",
    "    max=100,\n",
    "    step=1,\n",
    "    description='Max data:',\n",
    "    disabled=False\n",
    ")"
   ]
  },
  {
   "cell_type": "code",
   "execution_count": 26,
   "metadata": {},
   "outputs": [
    {
     "data": {
      "application/vnd.jupyter.widget-view+json": {
       "model_id": "d47d2c3c8c724087b88ee0bf001f47cd",
       "version_major": 2,
       "version_minor": 0
      },
      "text/plain": [
       "interactive(children=(Combobox(value='All', description='Country:', ensure_option=True, options=('All', 'Afgha…"
      ]
     },
     "metadata": {},
     "output_type": "display_data"
    }
   ],
   "source": [
    "df_player_summary = df_player[[\"str_player_name\",\"team\",\"str_nationality\",\"age\",\"int_best_overall_rating\",'str_best_position','int_wage']]\n",
    "df_player_summary = df_player_summary.rename(columns={'str_player_name': 'Name','team': 'Team','str_nationality': 'Nation','age': 'Age','int_best_overall_rating': 'OVR','str_best_position':'POS','int_wage': 'Wage'})\n",
    "def view_table(x,y,p,s,a,m):\n",
    "    df_filtered = df_player_summary\n",
    "    df_filtered = df_filtered[(a[0] <= df_filtered['Age'])&(df_filtered['Age'] <= a[1])]  \n",
    "    if(len(x)>0 and len(y)>0 and len(p)>0):\n",
    "        if(x == \"All\") and (y==\"All\") and (p==\"All\"):\n",
    "            pass\n",
    "        else:\n",
    "            if(x != \"All\"): # filter country\n",
    "                df_filtered = df_filtered[df_filtered['Nation'] == x]  \n",
    "            if(y != \"All\"): # filter team\n",
    "                df_filtered = df_filtered[df_filtered['Team'] == y] \n",
    "            if(p != \"All\"): # filter pos\n",
    "                df_filtered = df_filtered[df_filtered['POS'] == p]  \n",
    "            \n",
    "    if(len(s)>0):\n",
    "        if(s == 'OVR (High)'):\n",
    "            df_filtered=df_filtered.sort_values(by=['OVR'],ascending=False)\n",
    "        elif(s == 'OVR (Low)'):\n",
    "            df_filtered=df_filtered.sort_values(by=['OVR'])\n",
    "        elif(s == 'Age (Old)'):\n",
    "            df_filtered=df_filtered.sort_values(by=['Age'],ascending=False)\n",
    "        elif(s == 'Age (Young)'):\n",
    "            df_filtered=df_filtered.sort_values(by=['Age'])\n",
    "        elif(s == 'Wage (High)'):\n",
    "            df_filtered=df_filtered.sort_values(by=['Wage'],ascending=False)\n",
    "        elif(s == 'Wage (Low)'):\n",
    "            df_filtered=df_filtered.sort_values(by=['Wage'])\n",
    "    if(len(x)>0 and len(y)>0 and len(p)>0)or(len(s)>0):\n",
    "        #display(df_filtered)\n",
    "        df_filtered.index = np.arange(1, len(df_filtered) + 1)\n",
    "        if(len(df_filtered) > m):\n",
    "            display(df_filtered[0:m:])\n",
    "        else:\n",
    "            display(df_filtered)\n",
    "            \n",
    "#    return \n",
    "widgets.interactive(view_table,x=country_combobox1,y=team_combobox,p=pos_combobox,s=sort_combobox,a=age_slider1,m=max_data_bounded_text1)"
   ]
  },
  {
   "cell_type": "markdown",
   "metadata": {},
   "source": [
    "#2. Histogram showing the distirbution of each category"
   ]
  },
  {
   "cell_type": "code",
   "execution_count": 27,
   "metadata": {},
   "outputs": [],
   "source": [
    "cat_combobox=widgets.Combobox(\n",
    "    value='Nation',\n",
    "    placeholder='Choose Hist',\n",
    "    options=['Nation','Team','Age','OVR','Wage','POS'],\n",
    "    description='Category:',\n",
    "    ensure_option=True,\n",
    "    disabled=False\n",
    ")\n",
    "bin_slider=widgets.IntSlider(\n",
    "    value=10,\n",
    "    min=2,\n",
    "    max=20,\n",
    "    step=1,\n",
    "    description='Bins:',\n",
    "    disabled=False,\n",
    "    continuous_update=False,\n",
    "    orientation='horizontal',\n",
    "    readout=True,\n",
    "    readout_format='d'\n",
    ")"
   ]
  },
  {
   "cell_type": "code",
   "execution_count": 28,
   "metadata": {},
   "outputs": [
    {
     "data": {
      "application/vnd.jupyter.widget-view+json": {
       "model_id": "618d277e517e49bab5bdd9464e4f0014",
       "version_major": 2,
       "version_minor": 0
      },
      "text/plain": [
       "interactive(children=(Combobox(value='Age', description='Category:', ensure_option=True, options=('Nation', 'T…"
      ]
     },
     "metadata": {},
     "output_type": "display_data"
    }
   ],
   "source": [
    "import matplotlib.pyplot as plt\n",
    "def view_histogram(c,b):\n",
    "    if(len(c)>0):\n",
    "        if(c in ['Age','OVR','Wage']):\n",
    "            df_player_summary.hist(column=c,bins=b)\n",
    "        else:\n",
    "            df_series = df_player_summary[c].value_counts()\n",
    "            df_series=df_series[:b].sort_values()\n",
    "            if(c == 'Nation'):\n",
    "                df_series.plot(kind='barh')\n",
    "            else:\n",
    "                df_series.plot(kind='barh')\n",
    "widgets.interactive(view_histogram,c=cat_combobox,b=bin_slider)"
   ]
  },
  {
   "cell_type": "markdown",
   "metadata": {},
   "source": [
    "#3. A statistics comparing the average of age, overall and wage of each country"
   ]
  },
  {
   "cell_type": "code",
   "execution_count": 29,
   "metadata": {},
   "outputs": [
    {
     "data": {
      "application/vnd.jupyter.widget-view+json": {
       "model_id": "e1a8f14fb95142b4baa1595adb777dd9",
       "version_major": 2,
       "version_minor": 0
      },
      "text/plain": [
       "interactive(children=(Combobox(value='OVR (High)', description='Sort:', ensure_option=True, options=('OVR (Hig…"
      ]
     },
     "metadata": {},
     "output_type": "display_data"
    }
   ],
   "source": [
    "# country statistic\n",
    "def view_country_statistic(s,m):\n",
    "    if(len(s)>0):\n",
    "        df_sorted = df_player_summary.groupby('Nation').mean()\n",
    "        df_sorted = df_sorted.rename(columns={'Age': 'Avg. Age','OVR': 'Avg. OVR','Wage': 'Avg. Wage'})\n",
    "        if(s == 'OVR (High)'):\n",
    "            df_sorted=df_sorted.sort_values(by=['Avg. OVR'],ascending=False)\n",
    "        elif(s == 'OVR (Low)'):\n",
    "            df_sorted=df_sorted.sort_values(by=['Avg. OVR'])\n",
    "        elif(s == 'Age (Old)'):\n",
    "            df_sorted=df_sorted.sort_values(by=['Avg. Age'],ascending=False)\n",
    "        elif(s == 'Age (Young)'):\n",
    "            df_sorted=df_sorted.sort_values(by=['Avg. Age'])\n",
    "        elif(s == 'Wage (High)'):\n",
    "            df_sorted=df_sorted.sort_values(by=['Avg. Wage'],ascending=False)\n",
    "        elif(s == 'Wage (Low)'):\n",
    "            df_sorted=df_sorted.sort_values(by=['Avg. Wage'])\n",
    "        display(df_sorted[0:m:])\n",
    "widgets.interactive(view_country_statistic,s=sort_combobox,m=max_data_bounded_text2)\n"
   ]
  },
  {
   "cell_type": "markdown",
   "metadata": {},
   "source": [
    "#4. Best starting lineup based on country, formation and age\n",
    "This is useful for a manager/game player to decide what formation that creates best starting lineup. It returns the average overall. "
   ]
  },
  {
   "cell_type": "code",
   "execution_count": 30,
   "metadata": {},
   "outputs": [
    {
     "data": {
      "application/vnd.jupyter.widget-view+json": {
       "model_id": "654ac4b75ee74fd78d869865498d92d3",
       "version_major": 2,
       "version_minor": 0
      },
      "text/plain": [
       "interactive(children=(Combobox(value='All', description='Country:', ensure_option=True, options=('All', 'Afgha…"
      ]
     },
     "metadata": {},
     "output_type": "display_data"
    }
   ],
   "source": [
    "#best lineup country\n",
    "#at least need one GK \n",
    "#formation: 433,442,451,361,352,343,541,532\n",
    "formation_combobox=widgets.Combobox(\n",
    "    value='4-3-3',\n",
    "    placeholder='Choose Formation',\n",
    "    options=['4-3-3','4-4-2','4-5-1','3-6-1','3-5-2','3-4-3','5-4-1','5-3-2'],\n",
    "    description='Formation:',\n",
    "    ensure_option=True,\n",
    "    disabled=False\n",
    ")\n",
    "# attacker(A): RW,ST,LW,CF\n",
    "# midfielder(M): CAM,CDM,LM,CM,RM\n",
    "# defender(D): CB,LB,RB,RWB,LWB\n",
    "\n",
    "def view_best_lineup(c,f,a):\n",
    "    df_filtered=df_player_summary\n",
    "    if(len(c)>0 and len(f)>0):\n",
    "        if(c == \"All\"):\n",
    "            pass\n",
    "        else:\n",
    "            df_filtered = df_filtered[df_filtered['Nation'] == c]  \n",
    "        df_filtered = df_filtered[(df_filtered['Age'] >= a[0])&(df_filtered['Age'] <= a[1])]\n",
    "        df_AC=df_filtered[(df_filtered['POS']=='ST') | (df_filtered['POS']=='CF')]\n",
    "        df_AC=df_AC.sort_values(by=['OVR'],ascending=False)\n",
    "        df_AL=df_filtered[df_filtered['POS']=='LW']\n",
    "        df_AL=df_AL.sort_values(by=['OVR'],ascending=False)\n",
    "        df_AR=df_filtered[df_filtered['POS']=='RW']\n",
    "        df_AR=df_AR.sort_values(by=['OVR'],ascending=False)\n",
    "        df_MC=df_filtered[(df_filtered['POS']=='CM') | (df_filtered['POS']=='CAM') | (df_filtered['POS']=='CDM')]\n",
    "        df_MC=df_MC.sort_values(by=['OVR'],ascending=False)\n",
    "        df_MR=df_filtered[df_filtered['POS']=='RM']\n",
    "        df_MR=df_MR.sort_values(by=['OVR'],ascending=False)\n",
    "        df_ML=df_filtered[df_filtered['POS']=='LM']\n",
    "        df_ML=df_ML.sort_values(by=['OVR'],ascending=False)\n",
    "        df_DC=df_filtered[df_filtered['POS']=='CB']\n",
    "        df_DC=df_DC.sort_values(by=['OVR'],ascending=False)\n",
    "        df_DL=df_filtered[(df_filtered['POS']=='LB') | (df_filtered['POS']=='LWB')]\n",
    "        df_DL=df_DL.sort_values(by=['OVR'],ascending=False)\n",
    "        df_DR=df_filtered[(df_filtered['POS']=='RB') | (df_filtered['POS']=='RWB')]\n",
    "        df_DR=df_DR.sort_values(by=['OVR'],ascending=False)\n",
    "        df_G=df_filtered[df_filtered['POS']=='GK']\n",
    "        df_G=df_G.sort_values(by=['OVR'],ascending=False)\n",
    "        if(f=='4-3-3'):\n",
    "            frames=[df_G[0:1:],df_DC[0:2:],df_DL[0:1:],df_DR[0:1:],df_MC[0:1:],df_ML[0:1:],df_MR[0:1:],df_AL[0:1:],df_AR[0:1:],df_AC[0:1:]]\n",
    "        elif(f=='4-4-2'):\n",
    "            frames=[df_G[0:1:],df_DC[0:2:],df_DL[0:1:],df_DR[0:1:],df_MC[0:2:],df_ML[0:1:],df_MR[0:1:],df_AC[0:2:]]\n",
    "        elif(f=='4-5-1'):\n",
    "            frames=[df_G[0:1:],df_DC[0:2:],df_DL[0:1:],df_DR[0:1:],df_MC[0:3:],df_ML[0:1:],df_MR[0:1:],df_AC[0:1:]]\n",
    "        elif(f=='3-6-1'):\n",
    "            frames=[df_G[0:1:],df_DC[0:3:],df_MC[0:3:],df_ML[0:1:],df_MR[0:1:],df_AC[0:1:]]\n",
    "        elif(f=='3-5-2'):\n",
    "            frames=[df_G[0:1:],df_DC[0:3:],df_MC[0:3:],df_ML[0:1:],df_MR[0:1:],df_AC[0:2:]]\n",
    "        elif(f=='3-4-3'):\n",
    "            frames=[df_G[0:1:],df_DC[0:3:],df_MC[0:2:],df_ML[0:1:],df_MR[0:1:],df_AR[0:1:],df_AL[0:1:],df_AC[0:1:]]\n",
    "        elif(f=='5-4-1'):\n",
    "            frames=[df_G[0:1:],df_DC[0:3:],df_DL[0:1:],df_DR[0:1:],df_MC[0:2:],df_ML[0:1:],df_MR[0:1:],df_AC[0:1:]]\n",
    "        elif(f=='5-3-2'):\n",
    "            frames=[df_G[0:1:],df_DC[0:3:],df_DL[0:1:],df_DR[0:1:],df_MC[0:1:],df_ML[0:1:],df_MR[0:1:],df_AC[0:2:]]\n",
    "        df_lineup=pd.concat(frames)\n",
    "        df_lineup.index = np.arange(1, len(df_lineup) + 1)\n",
    "        display(df_lineup)\n",
    "        display(\"Overall:\"+str(round(np.mean(df_lineup['OVR'].to_list()),2)))\n",
    "        if(len(df_lineup) < 11):\n",
    "            display(\"You cannot play a match with this formation. The players are only \"+str(len(df_lineup)))\n",
    "            \n",
    "widgets.interactive(view_best_lineup,c=country_combobox2,f=formation_combobox,a=age_slider2)"
   ]
  },
  {
   "cell_type": "code",
   "execution_count": 31,
   "metadata": {},
   "outputs": [],
   "source": [
    "#df_player_summary[\"Wage\"].max()"
   ]
  },
  {
   "cell_type": "code",
   "execution_count": 32,
   "metadata": {},
   "outputs": [],
   "source": [
    "#df_player_summary.groupby(pd.cut(df_player_summary[\"Wage\"], np.arange(df_player_summary[\"Wage\"].min(), df_player_summary[\"Wage\"].max(), (df_player_summary[\"Wage\"].max()-df_player_summary[\"Wage\"].min())/10))).mean()"
   ]
  },
  {
   "cell_type": "markdown",
   "metadata": {},
   "source": [
    "#5. Correlation between Age or Wage with player overall\n",
    "This plot shows how old is the player tend to decrease football ability and how is the correlation between the wage and the overall."
   ]
  },
  {
   "cell_type": "code",
   "execution_count": 33,
   "metadata": {
    "scrolled": true
   },
   "outputs": [
    {
     "data": {
      "application/vnd.jupyter.widget-view+json": {
       "model_id": "4a855467064d4c6695e290d6353fe970",
       "version_major": 2,
       "version_minor": 0
      },
      "text/plain": [
       "interactive(children=(Combobox(value='Age', description='Cat:', ensure_option=True, options=('Age', 'Wage'), p…"
      ]
     },
     "metadata": {},
     "output_type": "display_data"
    }
   ],
   "source": [
    "#statistics average of overall groupby the age and wages\n",
    "change_ovr_combobox=widgets.Combobox(\n",
    "    value='Age',\n",
    "    placeholder='Choose category',\n",
    "    options=['Age','Wage'],\n",
    "    description='Cat:',\n",
    "    ensure_option=True,\n",
    "    disabled=False\n",
    ")\n",
    "def view_overall_change(c):\n",
    "    if(len(c)>0):\n",
    "        if(c == 'Age'):\n",
    "            df_player_summary.groupby('Age').mean()['OVR'].plot(kind='bar')\n",
    "        else:                \n",
    "            delta = (df_player_summary[\"Wage\"].max()-df_player_summary[\"Wage\"].min())/10\n",
    "            df_player_summary.groupby(pd.cut(df_player_summary[\"Wage\"], np.arange(df_player_summary[\"Wage\"].min(), df_player_summary[\"Wage\"].max()+delta, delta))).mean()['OVR'].plot(kind='bar')\n",
    "\n",
    "                \n",
    "widgets.interactive(view_overall_change,c=change_ovr_combobox)"
   ]
  },
  {
   "cell_type": "code",
   "execution_count": 34,
   "metadata": {},
   "outputs": [],
   "source": [
    "#df_player.shape"
   ]
  },
  {
   "cell_type": "code",
   "execution_count": 35,
   "metadata": {},
   "outputs": [],
   "source": [
    "#df_player.head()"
   ]
  },
  {
   "cell_type": "code",
   "execution_count": 36,
   "metadata": {},
   "outputs": [],
   "source": [
    "df_ability_attack = pd.read_csv('tbl_player_attacking.csv',nrows=num_data)\n",
    "df_ability_defend = pd.read_csv('tbl_player_defending.csv',nrows=num_data)\n",
    "df_ability_goalkeeping = pd.read_csv('tbl_player_goalkeeping.csv',nrows=num_data)\n",
    "df_ability_mental = pd.read_csv('tbl_player_mentality.csv',nrows=num_data)\n",
    "df_ability_movement = pd.read_csv('tbl_player_movement.csv',nrows=num_data)\n",
    "df_ability_power = pd.read_csv('tbl_player_power.csv',nrows=num_data)\n",
    "df_ability_skill = pd.read_csv('tbl_player_skill.csv',nrows=num_data)\n"
   ]
  },
  {
   "cell_type": "code",
   "execution_count": 37,
   "metadata": {},
   "outputs": [],
   "source": [
    "#print(df_ability_attack.isna().any().any())\n",
    "#print(df_ability_defend.isna().any().any())\n",
    "#print(df_ability_goalkeeping.isna().any().any())\n",
    "#print(df_ability_mental.isna().any().any())\n",
    "#print(df_ability_movement.isna().any().any())\n",
    "#print(df_ability_power.isna().any().any())\n",
    "#print(df_ability_skill.isna().any().any())"
   ]
  },
  {
   "cell_type": "code",
   "execution_count": 38,
   "metadata": {},
   "outputs": [],
   "source": [
    "#df_ability_skill.head()"
   ]
  },
  {
   "cell_type": "code",
   "execution_count": 39,
   "metadata": {},
   "outputs": [],
   "source": [
    "df_ability_attack=df_ability_attack.drop([\"int_attacking_id\"],axis=1)\n",
    "df_ability_defend=df_ability_defend.drop([\"int_defending_id\"],axis=1)\n",
    "df_ability_goalkeeping=df_ability_goalkeeping=df_ability_goalkeeping.drop([\"int_goalkeeping_id\"],axis=1)\n",
    "df_ability_mental=df_ability_mental.drop([\"int_mentality_id\"],axis=1)\n",
    "df_ability_movement=df_ability_movement.drop([\"int_movement_id\"],axis=1)\n",
    "df_ability_power=df_ability_power.drop([\"int_power_id\"],axis=1)\n",
    "df_ability_skill=df_ability_skill.drop([\"int_skill_id\"],axis=1)\n",
    "\n",
    "df_player=pd.concat([df_player,df_ability_attack,df_ability_defend,df_ability_goalkeeping,df_ability_mental,df_ability_movement,df_ability_power,df_ability_skill],axis=1)\n",
    "#df_player.head()"
   ]
  },
  {
   "cell_type": "code",
   "execution_count": 40,
   "metadata": {},
   "outputs": [],
   "source": [
    "#classification\n",
    "#split data\n",
    "from sklearn.model_selection import train_test_split\n",
    "df_player.str_best_position=pd.Categorical(df_player.str_best_position)\n",
    "df_player['int_best_position']=df_player.str_best_position.cat.codes\n",
    "X = df_player.drop(['int_player_id','str_player_name','str_positions','dt_date_of_birth','int_overall_rating','int_potential_rating','str_best_position','int_best_overall_rating','int_value','int_wage','str_player_image_url','int_team_id','str_nationality','age','team','int_best_position'],axis=1)\n",
    "y = df_player['int_best_position']\n",
    "from sklearn import preprocessing\n",
    "\n",
    "x = X.values \n",
    "min_max_scaler = preprocessing.MinMaxScaler()\n",
    "x_scaled = min_max_scaler.fit_transform(x)\n",
    "X = pd.DataFrame(x_scaled)"
   ]
  },
  {
   "cell_type": "code",
   "execution_count": 41,
   "metadata": {},
   "outputs": [],
   "source": [
    "#y.head()"
   ]
  },
  {
   "cell_type": "code",
   "execution_count": 42,
   "metadata": {},
   "outputs": [],
   "source": [
    "#X.head()"
   ]
  },
  {
   "cell_type": "code",
   "execution_count": 43,
   "metadata": {},
   "outputs": [],
   "source": [
    "X_train,X_test,y_train,y_test = train_test_split(X,y,test_size=0.2,random_state=1, stratify=y)"
   ]
  },
  {
   "cell_type": "code",
   "execution_count": null,
   "metadata": {},
   "outputs": [],
   "source": []
  },
  {
   "cell_type": "code",
   "execution_count": 44,
   "metadata": {},
   "outputs": [],
   "source": [
    "data_Xy = pd.concat([X,y],axis=1) \n",
    "#data_Xy.corr()"
   ]
  },
  {
   "cell_type": "code",
   "execution_count": 45,
   "metadata": {},
   "outputs": [],
   "source": [
    "#data_Xy.corr()[\"int_best_position\"]"
   ]
  },
  {
   "cell_type": "markdown",
   "metadata": {},
   "source": [
    "#6. Classifier comparison to predict the best position according to the abilities.\n",
    "Four classifier are used to predict the best position from the player abilities. The data is randomly splitted to 20% testing data and 80% training data. Before creating the classification model, some category that are not corellated are dropped and then normalized."
   ]
  },
  {
   "cell_type": "code",
   "execution_count": 46,
   "metadata": {},
   "outputs": [
    {
     "data": {
      "text/plain": [
       "<AxesSubplot:>"
      ]
     },
     "execution_count": 46,
     "metadata": {},
     "output_type": "execute_result"
    },
    {
     "data": {
      "image/png": "[encoded data removed]",
      "text/plain": [
       "<Figure size 432x288 with 2 Axes>"
      ]
     },
     "metadata": {
      "needs_background": "light"
     },
     "output_type": "display_data"
    }
   ],
   "source": [
    "import seaborn as sns\n",
    "#sns.heatmap(data_Xy.corr())"
   ]
  },
  {
   "cell_type": "code",
   "execution_count": 47,
   "metadata": {},
   "outputs": [],
   "source": [
    "change_ovr_combobox=widgets.Combobox(\n",
    "    value='K-Nearest Neighbor',\n",
    "    placeholder='Choose classifier',\n",
    "    options=['K-Nearest Neighbor','Decision Tree','Support Vector Machine','Logistic Regression'],\n",
    "    description='Classifier:',\n",
    "    ensure_option=True,\n",
    "    disabled=False\n",
    ")"
   ]
  },
  {
   "cell_type": "code",
   "execution_count": 48,
   "metadata": {},
   "outputs": [],
   "source": [
    "def percent_match(a,b):\n",
    "    a=list(a)\n",
    "    b=list(b)\n",
    "    match=0\n",
    "    for i in range(len(a)):\n",
    "        if(a[i]==b[i]):\n",
    "            match += 1\n",
    "    return round(match/len(a)*100.0,4)"
   ]
  },
  {
   "cell_type": "code",
   "execution_count": 49,
   "metadata": {},
   "outputs": [
    {
     "data": {
      "application/vnd.jupyter.widget-view+json": {
       "model_id": "47bf99389946443982105aacab08fd0e",
       "version_major": 2,
       "version_minor": 0
      },
      "text/plain": [
       "interactive(children=(Combobox(value='K-Nearest Neighbor', description='Classifier:', ensure_option=True, opti…"
      ]
     },
     "metadata": {},
     "output_type": "display_data"
    }
   ],
   "source": [
    "from sklearn.neighbors import KNeighborsClassifier\n",
    "from sklearn.tree import DecisionTreeClassifier\n",
    "from sklearn.svm import SVC\n",
    "from sklearn.linear_model import LogisticRegression\n",
    "def view_classifier_result(c):\n",
    "    if(len(c)>0):\n",
    "        display(\"waiting for classification..\")\n",
    "        if(c=='K-Nearest Neighbor'):\n",
    "            knn_model=KNeighborsClassifier()\n",
    "            knn_model.fit(X_train,y_train)\n",
    "            y_pred = knn_model.predict(X_test)\n",
    "        elif(c=='Decision Tree'):\n",
    "            dt_model=DecisionTreeClassifier()\n",
    "            dt_model.fit(X_train,y_train)\n",
    "            y_pred = dt_model.predict(X_test)\n",
    "        elif(c=='Support Vector Machine'):\n",
    "            svm_model=SVC()\n",
    "            svm_model.fit(X_train,y_train)\n",
    "            y_pred = svm_model.predict(X_test)\n",
    "        elif(c=='Logistic Regression'):\n",
    "            lr_model=LogisticRegression(max_iter=1000)\n",
    "            lr_model.fit(X_train,y_train)\n",
    "            y_pred = lr_model.predict(X_test)\n",
    "        display(\"The \"+c+\" classifier is successfully predict the best position with accuration: \"+str(percent_match(y_pred,y_test))+' %')\n",
    "        #display(pd.concat([df_player_summary['Name'],df_player_summary['POS'],],axis=1) )\n",
    "widgets.interactive(view_classifier_result,c=change_ovr_combobox)"
   ]
  }
 ],
 "metadata": {
  "kernelspec": {
   "display_name": "Python 3",
   "language": "python",
   "name": "python3"
  },
  "language_info": {
   "codemirror_mode": {
    "name": "ipython",
    "version": 3
   },
   "file_extension": ".py",
   "mimetype": "text/x-python",
   "name": "python",
   "nbconvert_exporter": "python",
   "pygments_lexer": "ipython3",
   "version": "3.7.10"
  },
  "widgets": {
   "application/vnd.jupyter.widget-state+json": {
    "state": {},
    "version_major": 2,
    "version_minor": 0
   }
  }
 },
 "nbformat": 4,
 "nbformat_minor": 4
}
